{
 "cells": [
  {
   "cell_type": "code",
   "execution_count": 1,
   "metadata": {},
   "outputs": [
    {
     "data": {
      "text/html": [
       "        <script type=\"text/javascript\">\n",
       "        window.PlotlyConfig = {MathJaxConfig: 'local'};\n",
       "        if (window.MathJax) {MathJax.Hub.Config({SVG: {font: \"STIX-Web\"}});}\n",
       "        if (typeof require !== 'undefined') {\n",
       "        require.undef(\"plotly\");\n",
       "        requirejs.config({\n",
       "            paths: {\n",
       "                'plotly': ['https://cdn.plot.ly/plotly-latest.min']\n",
       "            }\n",
       "        });\n",
       "        require(['plotly'], function(Plotly) {\n",
       "            window._Plotly = Plotly;\n",
       "        });\n",
       "        }\n",
       "        </script>\n",
       "        "
      ]
     },
     "metadata": {},
     "output_type": "display_data"
    }
   ],
   "source": [
    "## Importing libraries\n",
    "\n",
    "import os\n",
    "import random\n",
    "import sys\n",
    "import glob\n",
    "import IPython.display as ipd\n",
    "import librosa\n",
    "import librosa.display\n",
    "import matplotlib.pyplot as plt\n",
    "import numpy as np\n",
    "import pandas as pd\n",
    "import scipy.stats\n",
    "import warnings\n",
    "from sklearn.model_selection import StratifiedShuffleSplit\n",
    "from scipy.fftpack import fft\n",
    "from scipy import signal\n",
    "from scipy.io import wavfile\n",
    "from tqdm import tqdm\n",
    "import plotly.offline as py\n",
    "\n",
    "warnings.simplefilter(\"ignore\")\n",
    "pd.set_option('display.max_columns', None)\n",
    "py.init_notebook_mode(connected=True)"
   ]
  },
  {
   "cell_type": "code",
   "execution_count": 2,
   "metadata": {},
   "outputs": [],
   "source": [
    "## Loading Data\n",
    "def metadata(basepath):\n",
    "    dir_list = os.listdir(basepath)\n",
    "    dir_list.sort()\n",
    "\n",
    "    ## DataFrame to save metadata of Ravdess audio files\n",
    "    df = pd.DataFrame(columns=['path', 'source', 'actor', 'gender', 'intensity', 'statement', 'repetition', 'emotion'])\n",
    "    count = 0\n",
    "\n",
    "    ## Iterating through the directory, reading audio files, and extracting information from the file name\n",
    "    for f in os.listdir(basepath):\n",
    "        filename = f.split('.')[0].split('-')\n",
    "        if(len(filename)==7):\n",
    "            path = basepath + f\n",
    "            src = int(filename[1])\n",
    "            actor = int(filename[-1])\n",
    "            emotion = int(filename[2])\n",
    "            if int(actor)%2 == 0:\n",
    "                gender = \"female\"\n",
    "            else:\n",
    "                gender = \"male\"\n",
    "\n",
    "            if filename[3] == '01':\n",
    "                intensity = 0\n",
    "            else:\n",
    "                intensity = 1\n",
    "\n",
    "            if filename[4] == '01':\n",
    "                statement = 0\n",
    "            else:\n",
    "                statement = 1\n",
    "\n",
    "            if filename[5] == '01':\n",
    "                repeat = 0\n",
    "            else:\n",
    "                repeat = 1\n",
    "\n",
    "        df.loc[count] = [path, src, actor, gender, intensity, statement, repeat, emotion]\n",
    "        count += 1\n",
    "\n",
    "    labels = []\n",
    "    for i in range(len(df)):\n",
    "        if df.emotion[i] == 1:\n",
    "            label = \"_neutral\"\n",
    "        elif df.emotion[i] == 2:\n",
    "            label = \"_calm\"\n",
    "        elif df.emotion[i] == 3:\n",
    "            label = \"_happy\"\n",
    "        elif df.emotion[i] == 4:\n",
    "            label = \"_sad\"\n",
    "        elif df.emotion[i] == 5:\n",
    "            label = \"_angry\"\n",
    "        elif df.emotion[i] == 6:\n",
    "            label = \"_fearful\"\n",
    "        elif df.emotion[i] == 7:\n",
    "            label = \"_disgust\"\n",
    "        elif df.emotion[i] == 8:\n",
    "            label = \"_surprised\"\n",
    "        else:\n",
    "            label = \"_none\"\n",
    "\n",
    "        # Add gender to the label \n",
    "        labels.append(df.ix[i,'gender'] + label)\n",
    "\n",
    "    df['label'] = labels\n",
    "    \n",
    "    return df"
   ]
  },
  {
   "cell_type": "code",
   "execution_count": 3,
   "metadata": {},
   "outputs": [],
   "source": [
    "df = metadata(\"data/clean_files/\")"
   ]
  },
  {
   "cell_type": "code",
   "execution_count": 4,
   "metadata": {},
   "outputs": [],
   "source": [
    "## Creating training and test dataframes through stratified sampling, test dataframes size 0.2*(total data)\n",
    "sss = StratifiedShuffleSplit(n_splits=2, random_state=11, test_size=0.2)\n",
    "for train_index, test_index in sss.split(df, df.label):\n",
    "    df_train, df_test = df.iloc[train_index,:], df.iloc[test_index,:]"
   ]
  },
  {
   "cell_type": "code",
   "execution_count": 5,
   "metadata": {},
   "outputs": [],
   "source": [
    "## Replace indices with path column\n",
    "df_train.index = df_train.path\n",
    "df_train = df_train.drop(\"path\", axis=1)\n",
    "\n",
    "df_test.index = df_test.path\n",
    "df_test = df_test.drop(\"path\", axis=1)"
   ]
  },
  {
   "cell_type": "code",
   "execution_count": 6,
   "metadata": {},
   "outputs": [],
   "source": [
    "## Get features method takes in the metadata dataframe and spits out a dataframe with mfcc, mel scale and chroma features (180 features in total). \n",
    "def get_features(df):\n",
    "    data = pd.DataFrame(columns=['feature'])\n",
    "    label = pd.DataFrame(columns=['label'])\n",
    "    name = pd.DataFrame(columns=['name'])\n",
    "    \n",
    "    for i in tqdm(range(df.shape[0])):\n",
    "        x, sample_rate = librosa.load(df.index[i])\n",
    "        \n",
    "        ## Numpy array that will store all the features\n",
    "        result=np.array([])\n",
    "        \n",
    "        ## MFCCs\n",
    "        mfccs=np.mean(librosa.feature.mfcc(y=x, sr=sample_rate, n_mfcc=40).T, axis=0)\n",
    "        result=np.hstack((result, mfccs))\n",
    "        \n",
    "        ## Chroma\n",
    "        stft=np.abs(librosa.stft(x))\n",
    "        chroma=np.mean(librosa.feature.chroma_stft(S=stft, sr=sample_rate).T,axis=0)\n",
    "        result=np.hstack((result, chroma))\n",
    "        \n",
    "        ## Mel Scale\n",
    "        mel=np.mean(librosa.feature.melspectrogram(x, sr=sample_rate).T,axis=0)\n",
    "        result=np.hstack((result, mel))\n",
    "        \n",
    "        label.at[i,'label'] = df.ix[i,'label']\n",
    "        data.loc[i] = [result]\n",
    "        name.at[i,'name'] = df.index[i].split('/')[-1]\n",
    "        \n",
    "    final_data = pd.DataFrame(data['feature'].values.tolist())\n",
    "    final_data = pd.concat([final_data,label,name], axis=1)\n",
    "    \n",
    "    return final_data"
   ]
  },
  {
   "cell_type": "code",
   "execution_count": 7,
   "metadata": {},
   "outputs": [
    {
     "name": "stderr",
     "output_type": "stream",
     "text": [
      "100%|██████████| 1961/1961 [04:25<00:00,  7.39it/s]\n"
     ]
    }
   ],
   "source": [
    "train_data = get_features(df_train)"
   ]
  },
  {
   "cell_type": "code",
   "execution_count": 8,
   "metadata": {},
   "outputs": [
    {
     "name": "stderr",
     "output_type": "stream",
     "text": [
      "100%|██████████| 491/491 [01:03<00:00,  7.68it/s]\n"
     ]
    }
   ],
   "source": [
    "test_data = get_features(df_test)"
   ]
  },
  {
   "cell_type": "code",
   "execution_count": 9,
   "metadata": {},
   "outputs": [],
   "source": [
    "train_data.to_csv(\"data/waves/train_wave_features.csv\", index=False)\n",
    "test_data.to_csv(\"data/waves/test_wave_features.csv\", index=False)"
   ]
  },
  {
   "cell_type": "code",
   "execution_count": null,
   "metadata": {},
   "outputs": [],
   "source": []
  }
 ],
 "metadata": {
  "kernelspec": {
   "display_name": "Python 3",
   "language": "python",
   "name": "python3"
  },
  "language_info": {
   "codemirror_mode": {
    "name": "ipython",
    "version": 3
   },
   "file_extension": ".py",
   "mimetype": "text/x-python",
   "name": "python",
   "nbconvert_exporter": "python",
   "pygments_lexer": "ipython3",
   "version": "3.7.3"
  }
 },
 "nbformat": 4,
 "nbformat_minor": 4
}
